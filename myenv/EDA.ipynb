{
 "cells": [
  {
   "cell_type": "markdown",
   "metadata": {},
   "source": []
  },
  {
   "cell_type": "markdown",
   "metadata": {},
   "source": [
    "## Sprint 4 Project: UFO/UAP Sighting Analysis\n",
    "\n",
    "This project aims to creat a web application exploring some basic trends regarding global UFO sightings from 1910 to 2014. This data set was obtained from : https://mavenanalytics.io/\n",
    "\n",
    "UFO (unidentified flying objects) or UAPs (unidentified aerial phenomena) as the are now called are terms used to describe \"any apparent object in the sky that can’t be identified and classified as an object or phenomenon already known\" (Petrescu, 1). While some of these can be accredited to phenomena such as weather balloons or aircrafts, others are harder to explain by conventional means. These sightings are often linked to extraterrestrials and alien life. While this topic is controversial and discussion is widespread even throughout the United States government, data does exist to support the existence of UAPs and patterns in the experiences seen. \n",
    "\n",
    "This study aims to:\n",
    "Identify potential patterns in UAP sightings such as:\n",
    "1. Places with high numbers of sightings\n",
    "2. Years/ times of the year when sightings are high\n",
    "3. Patterns in sightings such as the types of crafts and duration of the sightings\n",
    "\n",
    "For the purposes of this study, we will be limiting our research to the United States (Washington D.C and Puerto Rico). We will also be using the term \"UAP\" moving forward as that is the current terminology used in government and media discussions.\n",
    "\n",
    "While this information cannot prove that extraterrestrial life is behind these UAPs, understanding patterns behind them could help the public stay more vigilant and help our government know how best to monitor and study such phenomena in the future.\n",
    "\n"
   ]
  },
  {
   "cell_type": "markdown",
   "metadata": {},
   "source": []
  },
  {
   "cell_type": "markdown",
   "metadata": {},
   "source": [
    "Sources:\n",
    "https://mavenanalytics.io/\n",
    "\n",
    "Petrescu, Relly Victoria, et al. \"What is a UFO?.\" Journal of Aircraft and Spacecraft Technology 1.2 (2017), https://papers.ssrn.com/sol3/papers.cfm?abstract_id=3073997\n",
    "\n"
   ]
  },
  {
   "cell_type": "code",
   "execution_count": 1,
   "metadata": {},
   "outputs": [],
   "source": [
    "import pandas as pd\n",
    "from scipy import stats as st\n",
    "import numpy as np\n",
    "import plotly.express as px\n",
    "import altair as alt\n",
    "import streamlit as st\n",
    "import matplotlib as plt\n"
   ]
  },
  {
   "cell_type": "code",
   "execution_count": null,
   "metadata": {},
   "outputs": [],
   "source": [
    "#import data set \n",
    "uaps = pd.read_csv('/Users/corinnehultman/Desktop/TripleTen/Sprint_4_Project/ufo_sightings_scrubbed.csv', low_memory=False) \n",
    "display(uaps.head(10))"
   ]
  },
  {
   "cell_type": "markdown",
   "metadata": {},
   "source": [
    "## Clean Data Set"
   ]
  },
  {
   "cell_type": "code",
   "execution_count": null,
   "metadata": {},
   "outputs": [],
   "source": [
    "#general info\n",
    "print(uaps.info())"
   ]
  },
  {
   "cell_type": "code",
   "execution_count": null,
   "metadata": {},
   "outputs": [],
   "source": [
    "#make all the writing lower case to avoid confusion\n",
    "def convert_to_lower(df):\n",
    "    for column in df.columns:\n",
    "        if df[column].dtype == 'object':\n",
    "            if df[column].str.contains('[A-Z]').any():\n",
    "                df[column] = df[column].str.lower()\n",
    "    return df\n",
    "uaps = convert_to_lower(uaps)\n",
    "display(uaps)"
   ]
  },
  {
   "cell_type": "code",
   "execution_count": null,
   "metadata": {},
   "outputs": [],
   "source": [
    "#remove all rows that are not in the USA\n",
    "print(uaps['country'].unique())\n",
    "uaps_us = uaps[uaps['country'] == 'us']\n",
    "print(uaps_us['country'].unique())\n",
    "display(uaps_us.info())"
   ]
  },
  {
   "cell_type": "code",
   "execution_count": null,
   "metadata": {},
   "outputs": [],
   "source": [
    "#check for duplicates and drop any if they exist\n",
    "dup_uaps_us = uaps_us[uaps_us.duplicated()]\n",
    "display(dup_uaps_us)\n",
    "uaps_us = uaps_us.drop_duplicates().reset_index()"
   ]
  },
  {
   "cell_type": "code",
   "execution_count": null,
   "metadata": {},
   "outputs": [],
   "source": [
    "#fix data types\n",
    "#change the date/time to date time\n",
    "uaps_us['datetime'] = pd.to_datetime(uaps_us['datetime'], format='%Y-%m-%d %H:%M:%S')\n",
    "# change the duration in seconds to a float type\n",
    "uaps_us['duration (seconds)'] = pd.to_numeric(uaps_us['duration (seconds)'], errors='coerce')\n",
    "display(uaps_us.info())"
   ]
  },
  {
   "cell_type": "code",
   "execution_count": null,
   "metadata": {},
   "outputs": [],
   "source": [
    "#check for missing values\n",
    "#dropping missing values in 'shape' column. Only looking at sightings that have a shape category to simplify, as there already is an 'unknown' column. Do not want to lump those two together\n",
    "uaps_us = uaps_us.dropna(subset=['shape'])\n",
    "print(uaps_us['shape'].unique())\n",
    "#missing values in 'comments' column\n",
    "uaps_us['comments']= uaps_us['comments'].fillna('no_comment')"
   ]
  },
  {
   "cell_type": "markdown",
   "metadata": {},
   "source": [
    "## Question 1: Which states in the US reported more UAP sightings from 1949-2014?"
   ]
  },
  {
   "cell_type": "code",
   "execution_count": null,
   "metadata": {},
   "outputs": [],
   "source": [
    "#group the rows by state and count the number of rows\n",
    "uaps_state_group = uaps_us.groupby('state').size().reset_index(name='count')\n",
    "#sort results in descending order\n",
    "uaps_state_group = uaps_state_group.sort_values(by='count', ascending=False)\n",
    "display(uaps_state_group)\n",
    "#percent of total sightings in CA\n",
    "cali_percent = 8684/65113\n",
    "print(f'The percent of total sightings in California is {cali_percent:.2%}')\n",
    "#top five states percent of total sightings\n",
    "top_five = ((8684+3754+3708+3399+2915)/65113)\n",
    "print(f'The total percent of sightings found in the top five states are {top_five:.2%}')"
   ]
  },
  {
   "cell_type": "code",
   "execution_count": null,
   "metadata": {},
   "outputs": [],
   "source": [
    "#create a graphic describing the distribution of sightings across states --> bar graph: discrete data\n",
    "#create bargraph via plotly.express\n",
    "fig_bar1 = px.bar(uaps_state_group, x='state', y='count', title='UAP Sightings per U.S State from 1910-2014')\n",
    "fig_bar1.update_traces(marker_color='green')\n",
    "fig_bar1.update_layout(\n",
    "    xaxis_title='State (abbreviation)',\n",
    "    yaxis_title='UAP Sighting Count',\n",
    "    title_font=dict(family=\"Arial\", size=24, color=\"black\"),\n",
    "    font=dict(family=\"Arial\", size=14, color=\"black\") )\n",
    "fig_bar1.show()"
   ]
  },
  {
   "cell_type": "markdown",
   "metadata": {},
   "source": [
    "The top states in the U.S.A that reported UAP sightings are New York, Texas, Washington, Florida, with the highest number in California, with 13.34% being found in CA alone. These five states made up 34.34% of all sightings in this time period "
   ]
  },
  {
   "cell_type": "markdown",
   "metadata": {},
   "source": [
    "## Question 2: Which year was the number of sightings the highest? What is the average number of sightings per year? what months show the highest number of sightings on average? In the year with the highest number of sightings, What was the distribution over the months of that year?"
   ]
  },
  {
   "cell_type": "code",
   "execution_count": null,
   "metadata": {},
   "outputs": [],
   "source": [
    "#which year was the number of sightings highest?\n",
    "#create year column\n",
    "uaps_us['year'] = uaps_us['datetime'].dt.year\n",
    "#groupby by year (own df) and count which year is the highest \n",
    "uaps_year_group = uaps_us.groupby('year').size().reset_index(name='count')\n",
    "#sort results in descending order\n",
    "uaps_year_group = uaps_year_group.sort_values(by='count', ascending=False)\n",
    "display(uaps_year_group.head(10))"
   ]
  },
  {
   "cell_type": "code",
   "execution_count": null,
   "metadata": {},
   "outputs": [],
   "source": [
    "# bar graph \n",
    "fig_bar2 = px.bar(uaps_year_group, x='year', y='count', title='UAP sightings per Year from 1910-2014')\n",
    "fig_bar2.update_traces(marker_color='lightgreen')\n",
    "fig_bar2.update_layout(\n",
    "    xaxis_title='Year',\n",
    "    yaxis_title='UAP Sighting Count',\n",
    "    title_font=dict(family=\"Arial\", size=24, color=\"black\"),\n",
    "    font=dict(family=\"Arial\", size=14, color=\"black\") )\n",
    "fig_bar2.update_layout(\n",
    "    xaxis=dict(\n",
    "        tickmode='linear',\n",
    "        dtick=10\n",
    "    )\n",
    ")\n",
    "fig_bar2.update_layout(\n",
    "    yaxis=dict(\n",
    "        tickmode='linear',\n",
    "        dtick=500\n",
    "    )\n",
    ")\n",
    "fig_bar2.show()"
   ]
  },
  {
   "cell_type": "code",
   "execution_count": null,
   "metadata": {},
   "outputs": [],
   "source": [
    "#making a histogram of data\n",
    "#make sure df is sort chronologcally\n",
    "uaps_year_group['year'] = pd.to_numeric(uaps_year_group['year'])\n",
    "uaps_year_group = uaps_year_group.sort_values(by='year')\n",
    "\n",
    "#histogram\n",
    "uaps_years = px.histogram(uaps_year_group, \n",
    "                   x='year', \n",
    "                   y='count', \n",
    "                   histfunc='sum',  \n",
    "                   title='UAP Sightings by Year',\n",
    "                   labels={'year': 'Year', 'count': 'Number of Sightings'})  \n",
    "\n",
    "#clean up histogram\n",
    "uaps_years.update_traces(marker=dict(color='lightgreen', line=dict(width=2, color='black')))\n",
    "uaps_years.update_layout(\n",
    "    bargap=0.1,  \n",
    "    xaxis_type='category',  \n",
    "    xaxis_tickangle=-45  \n",
    ")\n",
    "uaps_years.show()"
   ]
  },
  {
   "cell_type": "code",
   "execution_count": null,
   "metadata": {},
   "outputs": [],
   "source": [
    "#average number of sightings per year\n",
    "print(f'There were an average of {uaps_year_group['count'].mean():.0f} UAP sightings per year in the United States from 1910-2014.')"
   ]
  },
  {
   "cell_type": "markdown",
   "metadata": {},
   "source": [
    "The range of years from this data set with the overall highest UAP sightings was from 2003-2013 (excluding 2006), with the peak number of sightings being in 2012. These are the top ten years with the highest number of sightings overall. It is interesting to note that 2014 was not the highest on this list, indicating some sort of drop in sightings at this point. How much of this trend is due to increased UAP activity or better methods of tracking and recording sightings is unclear."
   ]
  },
  {
   "cell_type": "code",
   "execution_count": null,
   "metadata": {},
   "outputs": [],
   "source": [
    "#which months show the highest number of sightings\n",
    "#create month column\n",
    "uaps_us['month'] = uaps_us['datetime'].dt.month\n",
    "uaps_month_group = uaps_us.groupby('month').size().reset_index(name='count')\n",
    "#sort results in descending order\n",
    "uaps_month_group = uaps_month_group.sort_values(by='count', ascending=False)\n",
    "display(uaps_month_group)\n",
    "total_sightings_6 = (7538+6674+6278+6109+6050+5521)/(uaps_month_group['count'].sum())\n",
    "print(f'The percent of total sightings happening from June to November is {total_sightings_6:.2%}')"
   ]
  },
  {
   "cell_type": "code",
   "execution_count": null,
   "metadata": {},
   "outputs": [],
   "source": [
    "#converting month numbers to names\n",
    "uaps_month_group['month_name'] = uaps_month_group['month'].apply(lambda x: pd.to_datetime(f'{x}-01', format='%m-%d').strftime('%B'))\n",
    "#bar graph showing the months with the highest number of sightings\n",
    "fig_month = px.bar(uaps_month_group, x='month_name', y='count', title='UAP sightings per Month from 1910-2014')\n",
    "fig_month.update_traces(marker_color='#006400')\n",
    "fig_month.update_layout(\n",
    "    xaxis_title='Month',\n",
    "    yaxis_title='UAP Sighting Count',\n",
    "    title_font=dict(family=\"Arial\", size=24, color=\"black\"),\n",
    "    font=dict(family=\"Arial\", size=14, color=\"black\") )\n",
    "fig_month.update_layout(\n",
    "    xaxis=dict(\n",
    "        tickmode='linear',\n",
    "        dtick=1\n",
    "    )\n",
    ")\n",
    "fig_month.update_xaxes(type='category', categoryorder='array', categoryarray=[\n",
    "    'January', 'February', 'March', 'April', 'May', 'June', 'July', 'August',\n",
    "    'September', 'October', 'November', 'December'\n",
    "])\n",
    "fig_month.show()"
   ]
  },
  {
   "cell_type": "code",
   "execution_count": null,
   "metadata": {},
   "outputs": [],
   "source": [
    "#In the year with the highest number of sightings, What was the distribution over the months of that year? (2012)\n",
    "#create a data frame containing only sightings in 2012\n",
    "uaps_us_2012 = uaps_us[uaps_us['year'] == 2012]\n",
    "display(uaps_us_2012.info())\n",
    "#count the number of sightings distributed across the months of that year\n",
    "uaps_month_group_2012 = uaps_us_2012.groupby('month').size().reset_index(name='count')\n",
    "#sort results in descending order\n",
    "uaps_month_group_2012 = uaps_month_group_2012.sort_values(by='count', ascending=False)\n",
    "display(uaps_month_group_2012)"
   ]
  },
  {
   "cell_type": "code",
   "execution_count": null,
   "metadata": {},
   "outputs": [],
   "source": [
    "#plot this distribution on the same axis as the total month data to see how it compares?\n",
    "#converting month numbers to names for 2012\n",
    "uaps_month_group_2012['month_name'] = uaps_month_group_2012['month'].apply(lambda x: pd.to_datetime(f'{x}-01', format='%m-%d').strftime('%B'))\n",
    "#bar graph showing the months with the highest number of sightings\n",
    "fig_2012 = px.bar(uaps_month_group_2012, x='month_name', y='count', title='UAP sightings per Month in 2012')\n",
    "fig_2012.update_traces(marker_color='lightgreen')\n",
    "fig_2012.update_layout(\n",
    "    xaxis_title='Month',\n",
    "    yaxis_title='UAP Sighting Count',\n",
    "    title_font=dict(family=\"Arial\", size=24, color=\"black\"),\n",
    "    font=dict(family=\"Arial\", size=14, color=\"black\") )\n",
    "fig_2012.update_layout(\n",
    "    xaxis=dict(\n",
    "        tickmode='linear',\n",
    "        dtick=1\n",
    "    )\n",
    ")\n",
    "fig_2012.update_xaxes(type='category', categoryorder='array', categoryarray=[\n",
    "    'January', 'February', 'March', 'April', 'May', 'June', 'July', 'August',\n",
    "    'September', 'October', 'November', 'December'\n",
    "])\n",
    "fig_2012.show()"
   ]
  },
  {
   "cell_type": "markdown",
   "metadata": {},
   "source": [
    "On average the highest number of UAP sightings in this time frame occured in July and August, with the most occuring in July. June through November is the half of the year with the highest number of sightings overall with 60.05% of sightings occuring in that time. It is least likely that a UAP sighting would happen in the month of February. The months of January-May were the lowest for sightings. This trend was similar in 2012, except November and December showed higher levels of activity."
   ]
  },
  {
   "cell_type": "markdown",
   "metadata": {},
   "source": [
    "## Question 3: What was the most likely time of day to see a UAP?"
   ]
  },
  {
   "cell_type": "code",
   "execution_count": null,
   "metadata": {},
   "outputs": [],
   "source": [
    "#create 'hour' column using datetime data\n",
    "uaps_us['hour'] = uaps_us['datetime'].dt.hour\n",
    "#group sightings by hour and count which ones are most likely\n",
    "uaps_hour_group = uaps_us.groupby('hour').size().reset_index(name='count')\n",
    "#sort results in descending order\n",
    "uaps_hour_group = uaps_hour_group.sort_values(by='count', ascending=False)\n",
    "display(uaps_hour_group)"
   ]
  },
  {
   "cell_type": "code",
   "execution_count": null,
   "metadata": {},
   "outputs": [],
   "source": [
    "#create a plot to show the distribution bar\n",
    "fig_day = px.bar(uaps_hour_group, x='hour', y='count', title='UAP sightings Hour of the Day: 1910-2014',color='hour', color_continuous_scale='greens')\n",
    "fig_day.update_layout(showlegend=False)\n",
    "fig_day.update_layout(\n",
    "    xaxis_title='Hour of Day (military time)',\n",
    "    yaxis_title='UAP Sighting Count',\n",
    "    title_font=dict(family=\"Arial\", size=24, color=\"black\"),\n",
    "    font=dict(family=\"Arial\", size=14, color=\"black\") )\n",
    "fig_day.update_layout(\n",
    "    xaxis=dict(\n",
    "        tickmode='linear',\n",
    "        dtick=1\n",
    "    )\n",
    ")\n",
    "fig_day.show()"
   ]
  },
  {
   "cell_type": "markdown",
   "metadata": {},
   "source": [
    "The time of day where the most sightings occured was between hour 20-22 (9-10 pm) with the peak number being at hour 21 (9pm). It seems that sightings were lease likely at hour 8 (8 am), with later morning hours generally having less sightings. "
   ]
  },
  {
   "cell_type": "markdown",
   "metadata": {},
   "source": [
    "## Question 4: How long does a 'sighting' typically last? "
   ]
  },
  {
   "cell_type": "code",
   "execution_count": null,
   "metadata": {},
   "outputs": [],
   "source": [
    "#remove rows without exact number of seconds for duration\n",
    "print(uaps_us['duration (hours/min)'].unique())\n",
    "#dont need values with \"or less, or more,  -, so far, ~, over, +\"\n",
    "#While we are assuming that all of these are approximations due to the sources being eye witnesses, ones with a range or very general timeline will be excluded from this analyisis\n",
    "import re  \n",
    "#terms to exclude\n",
    "terms_to_exclude = [\"or less\", \"or more\", \"-\", \"so far\", \"~\", \"over\", \"+\"]\n",
    "#escape special characters in the terms using re.escape\n",
    "escaped_terms = [re.escape(term) for term in terms_to_exclude]\n",
    "#create a regular expression pattern to match any of the escaped terms\n",
    "pattern = '|'.join(escaped_terms)\n",
    "#filter the DataFrame by removing rows where the 'duration (hours/min)' contains any of the terms\n",
    "uaps_us_cleaned = uaps_us[~uaps_us['duration (hours/min)'].str.contains(pattern, case=False, na=False)]\n",
    "\n",
    "display(uaps_us.info())\n",
    "display(uaps_us_cleaned.info())"
   ]
  },
  {
   "cell_type": "code",
   "execution_count": null,
   "metadata": {},
   "outputs": [],
   "source": [
    "#general statistics of sight duration\n",
    "print(uaps_us_cleaned['duration (seconds)'].describe())\n",
    "#calculate the average length of a sighting in seconds\n",
    "sightings_mean = uaps_us_cleaned['duration (seconds)'].mean()\n",
    "print(f\"The average length of a UAP sighting is {sightings_mean:.2f} seconds or {(sightings_mean)/3600:.2f} hours.\")\n",
    "#calculate dispersion(variance)/standard deviation\n",
    "sightings_variance = np.var(uaps_us_cleaned['duration (seconds)'])\n",
    "print(f\"The variance of a UAP sighting is {sightings_variance:.2f} seconds.\")\n",
    "sightings_std = np.std(uaps_us_cleaned['duration (seconds)'])\n",
    "print(f\"The standard deviation of a UAP sighting is {sightings_std:.2f}seconds or {(sightings_std)/3600:.2f} hours.\")"
   ]
  },
  {
   "cell_type": "markdown",
   "metadata": {},
   "source": [
    "While the sighting durations are all taken as approximations due to the nature of eye witness testimony, sightings where the range of time was too broad were removed from this portion of analysis. For example, if a sighting was listed as \"an hour or less\" this would be excluded because that could mean anywhere from 1-59 minutes.\n",
    "\n",
    "The average length of a sighting is 1.70 hours. The large standard deviation shows a lot of variation in length of sightings. \n"
   ]
  },
  {
   "cell_type": "code",
   "execution_count": null,
   "metadata": {},
   "outputs": [],
   "source": [
    "\n",
    "# log transformation to the duration column to reduce outlier impact\n",
    "uaps_us_cleaned['log_duration'] = np.log10(uaps_us_cleaned['duration (seconds)'])\n",
    "\n",
    "# box plot for the transformed data\n",
    "fig_box = px.box(\n",
    "    uaps_us_cleaned,\n",
    "    y='log_duration',  \n",
    "    title='Box Plot of Log-Transformed Sighting Durations',\n",
    "    labels={'log_duration': 'Log of Duration (seconds)'}\n",
    ")\n",
    "\n",
    "\n"
   ]
  },
  {
   "cell_type": "markdown",
   "metadata": {},
   "source": [
    "The amount of time a sighting can last ranges from a couple of seconds to years of continued phenomena sightings. This extreme spread could be indicative of issues with data collection rather that the spanning of long-term phenomena, however given the nature of the data it is hard to know for sure."
   ]
  },
  {
   "cell_type": "markdown",
   "metadata": {},
   "source": [
    "## Question 5: How does the length of sightings change over time?"
   ]
  },
  {
   "cell_type": "code",
   "execution_count": null,
   "metadata": {},
   "outputs": [],
   "source": [
    "#create a scatterplot for the data\n",
    "display(uaps_us_cleaned.info())\n",
    "display(uaps_us_cleaned.head())\n",
    "#removing outlier values to visualize the main trends\n",
    "Q1 = uaps_us_cleaned['duration (seconds)'].quantile(0.25)\n",
    "Q3 = uaps_us_cleaned['duration (seconds)'].quantile(0.75)\n",
    "IQR = Q3 - Q1\n",
    "\n",
    "# Define outlier bounds (1.5 times the IQR above Q3 or below Q1)\n",
    "lower_bound = Q1 - 1.5 * IQR\n",
    "upper_bound = Q3 + 1.5 * IQR\n",
    "\n",
    "# Filter out the outliers\n",
    "filtered_data = uaps_us_cleaned[(uaps_us_cleaned['duration (seconds)'] >= lower_bound) & \n",
    "                           (uaps_us_cleaned['duration (seconds)'] <= upper_bound)]\n",
    "\n",
    "# Create the scatterplot with filtered data\n",
    "fig = px.scatter(filtered_data, x='year', y='duration (seconds)', \n",
    "                 title='UAP Sightings Duration Over Time (Outliers Removed)',\n",
    "                 labels={'year': 'Year', 'duration (seconds)': 'Duration (seconds)'})\n"
   ]
  },
  {
   "cell_type": "code",
   "execution_count": null,
   "metadata": {},
   "outputs": [],
   "source": [
    "# Create the scatterplot with log transformed data\n",
    "fig_scatter = px.scatter(filtered_data, x='year', y='log_duration', \n",
    "                 title='UAP Sightings Duration Over Time (Log-Transformed)',\n",
    "                 labels={'year': 'Year', 'log_duration': 'Duration (seconds)'})\n",
    "\n",
    "fig_scatter.show()\n"
   ]
  },
  {
   "cell_type": "markdown",
   "metadata": {},
   "source": [
    "There is no visible trend in the duration of a UAP sighting through time. "
   ]
  },
  {
   "cell_type": "markdown",
   "metadata": {},
   "source": [
    "## Conclusion\n",
    "\n",
    "In the United States from 1910-1949, thousands of UAP cases were documented across the country. A majority of these cases were recorded in California and in the summer months of June-August. The most likely time to see a UAP is between 8-10 pm with sightings lasting anywhere between less than a second to multiple hours. \n",
    "\n",
    "I believe the largest potential issue in this data set is the reliance on eyewitness testimony. Data could be skewed given different recording methods, number of witnessess, time of recording, etc. However that does not mean it does not give valuable insight into where and when these UAPs will be seen in the future. Information from this study could help the U.S government and other researchers track potential movements, focus areas of UAP studies, and develop methods for efficient response time to unidentified aerial phenomena."
   ]
  }
 ],
 "metadata": {
  "kernelspec": {
   "display_name": "myenv",
   "language": "python",
   "name": "python3"
  },
  "language_info": {
   "codemirror_mode": {
    "name": "ipython",
    "version": 3
   },
   "file_extension": ".py",
   "mimetype": "text/x-python",
   "name": "python",
   "nbconvert_exporter": "python",
   "pygments_lexer": "ipython3",
   "version": "3.12.7"
  }
 },
 "nbformat": 4,
 "nbformat_minor": 2
}
